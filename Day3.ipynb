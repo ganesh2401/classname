{
 "cells": [
  {
   "cell_type": "markdown",
   "metadata": {},
   "source": [
    "# Day 3 Python Practicals"
   ]
  },
  {
   "cell_type": "code",
   "execution_count": null,
   "metadata": {
    "collapsed": true
   },
   "outputs": [],
   "source": [
    "#Functional Programming uing Python\n",
    "\n",
    "#Types of functional Programming\n",
    "\n",
    "#-->Function Syntax and function without parameter\n",
    "#-->function with parameter\n",
    "#-->Function with default value parameter\n",
    "#-->Function with args\n",
    "#-->Function with kwargs\n",
    "#-->Function with args and kwargs\n",
    "#-->Function with multiple returns\n",
    "#-->Lamda Function\n",
    "#-->map Function\n",
    "#-->filter Function\n",
    "#-->reduce Function\n",
    "#-->decorator\n",
    "#-->enumerate Function\n",
    "#-->Zip Function"
   ]
  },
  {
   "cell_type": "code",
   "execution_count": 9,
   "metadata": {},
   "outputs": [
    {
     "name": "stdout",
     "output_type": "stream",
     "text": [
      "Hello printing from function\n",
      "<class 'function'>\n"
     ]
    }
   ],
   "source": [
    "#Type 1\n",
    "\n",
    "#Function Declaration\n",
    "#Function name should be camel case\n",
    "\n",
    "def printSomeThing():\n",
    "    print(\"Hello printing from function\")\n",
    "    \n",
    "#Calling function\n",
    "printSomeThing()\n",
    "\n",
    "#assigning function to variable\n",
    "a=printSomeThing\n",
    "print(type(a))\n",
    "a()"
   ]
  },
  {
   "cell_type": "code",
   "execution_count": 11,
   "metadata": {},
   "outputs": [
    {
     "name": "stdout",
     "output_type": "stream",
     "text": [
      "10\n",
      "Enter no 1: 5\n",
      "Enter no 2: 5\n",
      "10.0\n"
     ]
    }
   ],
   "source": [
    "#Type 2\n",
    "\n",
    "#Function with parameter\n",
    "\n",
    "#Function declaration\n",
    "\n",
    "def addTwoNo(a,b):\n",
    "    return a+b\n",
    "\n",
    "#function calling with static parameter\n",
    "\n",
    "print(addTwoNo(5,5))\n",
    "\n",
    "#Function calling with data taking from user\n",
    "\n",
    "print(addTwoNo(float(input(\"Enter no 1: \")),float(input(\"Enter no 2: \"))))\n"
   ]
  },
  {
   "cell_type": "code",
   "execution_count": 12,
   "metadata": {},
   "outputs": [
    {
     "data": {
      "text/plain": [
       "10.0"
      ]
     },
     "execution_count": 12,
     "metadata": {},
     "output_type": "execute_result"
    }
   ],
   "source": [
    "#Type 3\n",
    "\n",
    "#Function with defaul value parameter\n",
    "\n",
    "#Function Declaration\n",
    "\n",
    "def divideTwoNo(a=1,b=1):\n",
    "    return a/b\n",
    "\n",
    "#default value parameter function calling\n",
    "\n",
    "divideTwoNo()\n",
    "divideTwoNo(4)\n",
    "divideTwoNo(2,4)\n",
    "divideTwoNo(a=5)\n",
    "divideTwoNo(b=5)\n",
    "divideTwoNo(b=10,a=20)\n",
    "divideTwoNo(10,)"
   ]
  },
  {
   "cell_type": "code",
   "execution_count": 22,
   "metadata": {},
   "outputs": [
    {
     "name": "stdout",
     "output_type": "stream",
     "text": [
      "('Hello', 12, 12, 34, [1, 2, 3, 4], (0, 1, 2, 3))\n",
      "40.34\n",
      "34.34\n"
     ]
    }
   ],
   "source": [
    "#Type 4(function with args)\n",
    "\n",
    "#Function declaration\n",
    "#Note: * indicate args\n",
    "\n",
    "def printAll(*args):\n",
    "    print(args)\n",
    "    \n",
    "#Funtion calling\n",
    "\n",
    "printAll(\"Hello\", 12,12,34,[1,2,3,4],tuple(range(4)))\n",
    "\n",
    "###################################################################3\n",
    "\n",
    "#Function declaration\n",
    "\n",
    "def printAll(*args):\n",
    "    totalSum=0\n",
    "    for value in args:\n",
    "        if (type(value)is type(12)or type(value)is type(12.34)):\n",
    "            totalSum+=value\n",
    "        elif(type(value)is type([]) or type(value)is type((12,))):\n",
    "            for innervalue in value:\n",
    "                if(type(innervalue)is type(12) or type(innervalue)is type(12.34)):\n",
    "                    totalSum+=innervalue\n",
    "    print(totalSum)\n",
    "    \n",
    "#function calling\n",
    "    \n",
    "printAll(\"Hello\", 12,12.34,[1,2,3,4],tuple(range(4))) \n",
    "\n",
    "printAll(\"Hello\", 12,12.34,[1,2,3,4]) \n",
    "                \n",
    "\n"
   ]
  },
  {
   "cell_type": "code",
   "execution_count": 26,
   "metadata": {},
   "outputs": [
    {
     "name": "stdout",
     "output_type": "stream",
     "text": [
      "{'name': 'ray', 'std': 'BE', 'courses': ['Java', 'Python']}\n",
      "key is:- name and value is :- ray\n",
      "key is:- std and value is :- BE\n",
      "key is:- courses and value is :- ['Java', 'Python']\n"
     ]
    }
   ],
   "source": [
    "#Type 5(Function with kwargs)\n",
    "\n",
    "#Note:- ** indicated kwargs\n",
    "\n",
    "#Functiion declaratiom\n",
    "def studentDetails(**kw):\n",
    "    print(kw)\n",
    "    \n",
    "#Function callings\n",
    "#Note:- parameter should be  in form of ke values\n",
    "studentDetails(name=\"ray\",std=\"BE\",courses=[\"Java\",\"Python\"])\n",
    "    \n",
    "##########################################################################\n",
    "\n",
    "#Functiion declaratiom\n",
    "def studentDetails(**kw):\n",
    "    for key,value in list(kw.items()):\n",
    "        print(f\"key is:- {key} and value is :- {value}\")\n",
    "    \n",
    "    \n",
    "#Function callings\n",
    "\n",
    "studentDetails(name=\"ray\",std=\"BE\",courses=[\"Java\",\"Python\"])"
   ]
  },
  {
   "cell_type": "code",
   "execution_count": 29,
   "metadata": {},
   "outputs": [
    {
     "name": "stdout",
     "output_type": "stream",
     "text": [
      "(12, 23, 'hello', 23.34)\n",
      "{'name': 'ray'}\n",
      "(12, 23, 'hello', 23.34)\n",
      "{}\n",
      "()\n",
      "{'name': 'ray'}\n"
     ]
    }
   ],
   "source": [
    "#Type 6(Function with args and kwarg)\n",
    "\n",
    "#Note:- while passing parameters args is fulfilled first then followed up by kwargs\n",
    "\n",
    "def playingWithArgsAndKwargs(*args,**kwargs):\n",
    "    print(args)\n",
    "    print(kwargs)\n",
    "    \n",
    "#Function calling\n",
    "\n",
    "playingWithArgsAndKwargs(12,23,\"hello\",23.34,name=\"ray\")\n",
    "\n",
    "playingWithArgsAndKwargs(12,23,\"hello\",23.34)\n",
    "\n",
    "playingWithArgsAndKwargs(name=\"ray\")"
   ]
  },
  {
   "cell_type": "code",
   "execution_count": 31,
   "metadata": {},
   "outputs": [
    {
     "name": "stdout",
     "output_type": "stream",
     "text": [
      "Enter no 1: 1\n",
      "Enter no 2: 2\n",
      "Addition is 3.0, subtraction is -1.0, division is2.0, floor division is 0.0, Raise to is 1.0\n"
     ]
    }
   ],
   "source": [
    "#Type 7(function with multiple returns)\n",
    "\n",
    "#Function Declaration\n",
    "#Python support multiple assgmnt so it can return\n",
    "\n",
    "def calculator(a,b):\n",
    "    return a+b,a-b,a*b,a/b,a//b,a**b\n",
    "\n",
    "#Function calling\n",
    "\n",
    "add,sub,div,mul,floor_div,raise_to=calculator=calculator(float(input(\"Enter no 1: \")),float(input(\"Enter no 2: \")))\n",
    "print(f\"Addition is {add}, subtraction is {sub}, division is {div}, floor division is {floor_div}, Raise to is {raise_to}\")\n",
    "    \n"
   ]
  },
  {
   "cell_type": "code",
   "execution_count": 38,
   "metadata": {},
   "outputs": [
    {
     "name": "stdout",
     "output_type": "stream",
     "text": [
      "24\n",
      "22\n",
      "56\n"
     ]
    }
   ],
   "source": [
    "#Type 8(Lamda Function)\n",
    "\n",
    "#It is also called as single  line function and Anonymous function(because no name for example in above code name is there like calc)\n",
    "#It return automatically. no need to write return\n",
    "\n",
    "#Lambda Sntax\n",
    "#Lambda<param>: expression or logic\n",
    "\n",
    "#Function declaration\n",
    "\n",
    "inc = lambda x :x+1  #inc become function\n",
    "dec = lambda x :x-1\n",
    "    \n",
    "#Function calling\n",
    "\n",
    "print(inc(23))\n",
    "print(dec(23))\n",
    "\n",
    "###################################################\n",
    "\n",
    "#Function Declaration\n",
    "\n",
    "greater=lambda a,b,c :a if a>b and a>c else b if b>a and b>c else c \n",
    "\n",
    "#Function Calling\n",
    "\n",
    "print(greater(23,24,56))"
   ]
  },
  {
   "cell_type": "code",
   "execution_count": 43,
   "metadata": {},
   "outputs": [
    {
     "name": "stdout",
     "output_type": "stream",
     "text": [
      "[0, 1, 4, 9, 16, 25, 36, 49, 64, 81]\n",
      "['goa', 'mAHARAsHTRA', 'kAShMIR', 'KERALA']\n"
     ]
    }
   ],
   "source": [
    "#Type 9(Map function)data,\n",
    "\n",
    "#map(func,data)\n",
    "\n",
    "#First Example\n",
    "\n",
    "data=list(range(10))\n",
    "business_logic=lambda x:x*x #it will take value from data \n",
    "\n",
    "#calling or execution\n",
    "\n",
    "print(list(map(business_logic,data))) #it will print object if list is not used so list will typecast\n",
    "\n",
    "#Second Example\n",
    "\n",
    "#Function Declaration\n",
    "\n",
    "def checkCases(x):\n",
    "    if x.isupper():\n",
    "        return x.lower()\n",
    "    elif x.islower():\n",
    "        return x.upper()\n",
    "    else:\n",
    "        return x.swapcase()\n",
    "    \n",
    "#Function calling\n",
    "\n",
    "data=[\"GOA\",\"MaharaShtra\",\"KasHmir\",\"kerala\"]\n",
    "\n",
    "business_logic= lambda x:checkCases(x)\n",
    "\n",
    "print(list(map(business_logic,data)))\n"
   ]
  },
  {
   "cell_type": "code",
   "execution_count": 45,
   "metadata": {},
   "outputs": [
    {
     "name": "stdout",
     "output_type": "stream",
     "text": [
      "[0, 2, 4, 6, 8, 10]\n"
     ]
    }
   ],
   "source": [
    "#Type 10(Filter function)\n",
    "\n",
    "#Syntax\n",
    "\n",
    "#filter(func,data)\n",
    "\n",
    "data=list(range(11))\n",
    "logic=lambda x: x%2==0\n",
    "\n",
    "#execution\n",
    "\n",
    "print(list(filter(logic,data)))\n",
    "\n",
    "#Note data should be sequence and nothing else else it will raise exception type errornnot iterable. \n",
    "#its for array not for single element for example finding 1 value\n"
   ]
  },
  {
   "cell_type": "code",
   "execution_count": 46,
   "metadata": {},
   "outputs": [
    {
     "name": "stdout",
     "output_type": "stream",
     "text": [
      "45\n"
     ]
    }
   ],
   "source": [
    "#Type 11(Reduce Funcion)\n",
    "\n",
    "#Syntax\n",
    "#reduce(func,data)\n",
    "\n",
    "data=list(range(10))\n",
    "logic= lambda x,y:x+y\n",
    "from functools import reduce\n",
    "print(reduce(logic,data)) #no need to typecast"
   ]
  },
  {
   "cell_type": "code",
   "execution_count": 63,
   "metadata": {},
   "outputs": [
    {
     "name": "stdout",
     "output_type": "stream",
     "text": [
      "Hello, printing before function execution\n",
      "Good noonn\n",
      "printing after function\n",
      "Enter parameter\n",
      "One parameter is missing\n",
      "Accepted param executing please wait\n",
      "Done with execution\n",
      "15 5 50 2.0\n"
     ]
    }
   ],
   "source": [
    "#Type 10(Decorator) For example if form is there so to go ahead we need validation\n",
    "\n",
    "#Function Declaration\n",
    "\n",
    "def wrapper(func):\n",
    "    def inner():\n",
    "        print(\"Hello, printing before function execution\")\n",
    "        func() #thats why it print good noon here\n",
    "        print(\"printing after function\")\n",
    "    return inner\n",
    "\n",
    "@wrapper #printMe=wrapper(printMe)\n",
    "\n",
    "def printMe():\n",
    "    print(\"Good noon\")\n",
    "\n",
    "@wrapper\n",
    "def printMee():\n",
    "    print(\"Good noonn\")\n",
    "\n",
    "    \n",
    "printMee()\n",
    "\n",
    "#################################################\n",
    "\n",
    "def validate(func):\n",
    "    def inner(*args):\n",
    "        if(len(args)==0):\n",
    "            print(\"Enter parameter\")\n",
    "        elif len(args)==1:\n",
    "            print(\"One parameter is missing\")\n",
    "        else:\n",
    "            print(\"Accepted param executing please wait\")\n",
    "            #func(args[0],args[1]) #it depends on us when we want to call\n",
    "            print(\"Done with execution\")\n",
    "            func(args[0],args[1]) #it depends on us when we want to call\n",
    "    return inner\n",
    "\n",
    "@validate\n",
    "def calculator(a,b):\n",
    "    print(a+b,a-b,a*b,a/b) \n",
    "\n",
    "#calling\n",
    "\n",
    "calculator()\n",
    "calculator(10)\n",
    "calculator(10,5)"
   ]
  },
  {
   "cell_type": "code",
   "execution_count": 64,
   "metadata": {},
   "outputs": [
    {
     "name": "stdout",
     "output_type": "stream",
     "text": [
      "0 red\n",
      "1 green\n",
      "2 orange\n"
     ]
    }
   ],
   "source": [
    "#Type 13(Enumerate function )\n",
    "\n",
    "data=[\"red\",\"green\",\"orange\"]\n",
    "\n",
    "for index,data in enumerate(data):\n",
    "    print(index,data)"
   ]
  },
  {
   "cell_type": "code",
   "execution_count": 66,
   "metadata": {},
   "outputs": [
    {
     "name": "stdout",
     "output_type": "stream",
     "text": [
      "('red', 'red1')\n",
      "('green', 'green1')\n",
      "('orange', 'orange1')\n",
      "red red1\n",
      "green green1\n",
      "orange orange1\n"
     ]
    }
   ],
   "source": [
    "#Type 14(Zip function)\n",
    "\n",
    "data=[\"red\",\"green\",\"orange\"]\n",
    "data2=[\"red1\",\"green1\",\"orange1\"]\n",
    "\n",
    "compress_data=zip(data,data2)\n",
    "\n",
    "for data in compress_data:\n",
    "    print(data)\n",
    "    \n",
    "data=[\"red\",\"green\",\"orange\"]\n",
    "data2=[\"red1\",\"green1\",\"orange1\",\"abc\"]\n",
    "\n",
    "compress_data=zip(data,data2)\n",
    "for data,data2 in compress_data:\n",
    "    print(data,data2)\n",
    "\n",
    "    \n"
   ]
  }
 ],
 "metadata": {
  "kernelspec": {
   "display_name": "Python 3",
   "language": "python",
   "name": "python3"
  },
  "language_info": {
   "codemirror_mode": {
    "name": "ipython",
    "version": 3
   },
   "file_extension": ".py",
   "mimetype": "text/x-python",
   "name": "python",
   "nbconvert_exporter": "python",
   "pygments_lexer": "ipython3",
   "version": "3.6.1"
  }
 },
 "nbformat": 4,
 "nbformat_minor": 2
}
