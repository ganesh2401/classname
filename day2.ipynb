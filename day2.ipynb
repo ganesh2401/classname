{
 "cells": [
  {
   "cell_type": "code",
   "execution_count": 3,
   "metadata": {},
   "outputs": [
    {
     "name": "stdout",
     "output_type": "stream",
     "text": [
      "32 64j (32+54j)\n"
     ]
    },
    {
     "ename": "NameError",
     "evalue": "name 'a' is not defined",
     "output_type": "error",
     "traceback": [
      "\u001b[1;31m---------------------------------------------------------------------------\u001b[0m",
      "\u001b[1;31mNameError\u001b[0m                                 Traceback (most recent call last)",
      "\u001b[1;32m<ipython-input-3-7380d11849f1>\u001b[0m in \u001b[0;36m<module>\u001b[1;34m()\u001b[0m\n\u001b[0;32m      6\u001b[0m \u001b[1;31m#del is reserv keyword flush out memory and variable as well\u001b[0m\u001b[1;33m\u001b[0m\u001b[1;33m\u001b[0m\u001b[0m\n\u001b[0;32m      7\u001b[0m \u001b[1;32mdel\u001b[0m \u001b[0ma\u001b[0m\u001b[1;33m,\u001b[0m\u001b[0mb\u001b[0m\u001b[1;33m,\u001b[0m\u001b[0mc\u001b[0m\u001b[1;33m\u001b[0m\u001b[0m\n\u001b[1;32m----> 8\u001b[1;33m \u001b[0mprint\u001b[0m\u001b[1;33m(\u001b[0m\u001b[0ma\u001b[0m\u001b[1;33m,\u001b[0m\u001b[0mb\u001b[0m\u001b[1;33m,\u001b[0m\u001b[0mc\u001b[0m\u001b[1;33m)\u001b[0m\u001b[1;33m\u001b[0m\u001b[0m\n\u001b[0m",
      "\u001b[1;31mNameError\u001b[0m: name 'a' is not defined"
     ]
    }
   ],
   "source": [
    "#crud  operation \n",
    "a=32;\n",
    "b=64j;\n",
    "c=32+54j;\n",
    "print(a,b,c) #no is inmutable,no doesnt follow index property \n",
    "#del is reserv keyword flush out memory and variable as well\n",
    "del a,b,c\n",
    "print(a,b,c)\n"
   ]
  },
  {
   "cell_type": "code",
   "execution_count": null,
   "metadata": {},
   "outputs": [],
   "source": [
    "#function and  methods\n"
   ]
  },
  {
   "cell_type": "code",
   "execution_count": null,
   "metadata": {},
   "outputs": [],
   "source": [
    "#abs()\n",
    "#ceil()\n",
    "#cmp() # depricated its version of 3.x\n",
    "#exp()\n",
    "#fabs()\n",
    "#floor()\n",
    "#log()\n",
    "#log10()\n",
    "#max()\n",
    "#min()\n",
    "#modf()\n",
    "#pow()\n",
    "#round()\n",
    "#sqrt()\n",
    "\n"
   ]
  },
  {
   "cell_type": "code",
   "execution_count": 2,
   "metadata": {},
   "outputs": [
    {
     "name": "stdout",
     "output_type": "stream",
     "text": [
      "23\n",
      "34.55\n"
     ]
    }
   ],
   "source": [
    "a=-23\n",
    "b= -34.55\n",
    "print(abs(a))\n",
    "print(abs(b))\n"
   ]
  },
  {
   "cell_type": "code",
   "execution_count": 2,
   "metadata": {},
   "outputs": [
    {
     "name": "stdout",
     "output_type": "stream",
     "text": [
      "23.0\n",
      "34.55\n"
     ]
    }
   ],
   "source": [
    "import math as m\n",
    "print(m.fabs(a))\n",
    "print(m.fabs(b))\n"
   ]
  },
  {
   "cell_type": "code",
   "execution_count": 4,
   "metadata": {},
   "outputs": [
    {
     "data": {
      "text/plain": [
       "1.026187963170189e-10"
      ]
     },
     "execution_count": 4,
     "metadata": {},
     "output_type": "execute_result"
    }
   ],
   "source": [
    "m.exp(a)# its e raise to a means e^a"
   ]
  },
  {
   "cell_type": "code",
   "execution_count": 3,
   "metadata": {},
   "outputs": [
    {
     "name": "stdout",
     "output_type": "stream",
     "text": [
      "3.1354942159291497\n",
      "1.3617278360175928\n"
     ]
    }
   ],
   "source": [
    "import math as m\n",
    "m.exp(a)\n",
    "print(m.log(abs(a)))\n",
    "print(m.log10(abs(a)))\n",
    "      "
   ]
  },
  {
   "cell_type": "code",
   "execution_count": 5,
   "metadata": {},
   "outputs": [
    {
     "name": "stdout",
     "output_type": "stream",
     "text": [
      "0.6666666666666666\n"
     ]
    }
   ],
   "source": [
    "print(2/3)"
   ]
  },
  {
   "cell_type": "code",
   "execution_count": 5,
   "metadata": {},
   "outputs": [
    {
     "name": "stdout",
     "output_type": "stream",
     "text": [
      "23.444\n"
     ]
    }
   ],
   "source": [
    "a=23.4437# this will round of thenext 3 position of that digit\n",
    "b=-34.33\n",
    "c=23.67\n",
    "print(round(a,3))"
   ]
  },
  {
   "cell_type": "code",
   "execution_count": 7,
   "metadata": {},
   "outputs": [
    {
     "name": "stdout",
     "output_type": "stream",
     "text": [
      "(-0.3299999999999983, -34.0)\n"
     ]
    }
   ],
   "source": [
    "print (m.modf(b))"
   ]
  },
  {
   "cell_type": "code",
   "execution_count": 9,
   "metadata": {},
   "outputs": [
    {
     "name": "stdout",
     "output_type": "stream",
     "text": [
      "55\n",
      "23\n"
     ]
    }
   ],
   "source": [
    "\n",
    "a=23\n",
    "b=45\n",
    "c=55\n",
    "print(max(a,b,c))\n",
    "print(min(a,b,c))"
   ]
  },
  {
   "cell_type": "code",
   "execution_count": 4,
   "metadata": {},
   "outputs": [
    {
     "name": "stdout",
     "output_type": "stream",
     "text": [
      "enter a value24\n",
      "enter the root value4\n",
      "2.213363839400643\n"
     ]
    }
   ],
   "source": [
    "### string####\n",
    "b=int(input(\"enter a value\"))\n",
    "a=int(input(\"enter the root value\"))\n",
    "c =b**(1/a)\n",
    "print (c)\n",
    "      \n",
    "      "
   ]
  },
  {
   "cell_type": "code",
   "execution_count": null,
   "metadata": {},
   "outputs": [],
   "source": [
    "##string is basic data type  in every lang\n",
    "#string is seq\n",
    "#strng follow index property\n",
    "\n"
   ]
  },
  {
   "cell_type": "code",
   "execution_count": 5,
   "metadata": {},
   "outputs": [
    {
     "name": "stdout",
     "output_type": "stream",
     "text": [
      "hello world\n"
     ]
    }
   ],
   "source": [
    "#crud operator\n",
    "#create\n",
    "a=\"hello world\"\n",
    "print(a)"
   ]
  },
  {
   "cell_type": "code",
   "execution_count": 4,
   "metadata": {},
   "outputs": [
    {
     "data": {
      "text/plain": [
       "'hel'"
      ]
     },
     "execution_count": 4,
     "metadata": {},
     "output_type": "execute_result"
    }
   ],
   "source": [
    "a[2]\n",
    "a[4:12:2]\n",
    "a[::2]\n",
    "a[-2:-10:-2]#it s give reverse\n",
    "a[-8:-1:2]\n",
    "a[::-1]\n",
    "a[-10:10]\n",
    "a[::-1][::2][3]\n",
    "a[:3:]\n",
    "#0 1 2 3 4 5 6 7 8 9 10\n",
    "#h e l l o  w o r l d\n",
    "\n"
   ]
  },
  {
   "cell_type": "code",
   "execution_count": 8,
   "metadata": {},
   "outputs": [
    {
     "ename": "TypeError",
     "evalue": "'str' object does not support item assignment",
     "output_type": "error",
     "traceback": [
      "\u001b[1;31m---------------------------------------------------------------------------\u001b[0m",
      "\u001b[1;31mTypeError\u001b[0m                                 Traceback (most recent call last)",
      "\u001b[1;32m<ipython-input-8-14892cfc9ee7>\u001b[0m in \u001b[0;36m<module>\u001b[1;34m()\u001b[0m\n\u001b[1;32m----> 1\u001b[1;33m \u001b[0ma\u001b[0m\u001b[1;33m[\u001b[0m\u001b[1;36m2\u001b[0m\u001b[1;33m]\u001b[0m\u001b[1;33m=\u001b[0m\u001b[1;34m\"z\"\u001b[0m\u001b[1;31m#cant update string because its in  mutable\u001b[0m\u001b[1;33m\u001b[0m\u001b[0m\n\u001b[0m\u001b[0;32m      2\u001b[0m \u001b[0mb\u001b[0m\u001b[1;33m=\u001b[0m\u001b[0ma\u001b[0m\u001b[1;33m[\u001b[0m\u001b[1;36m2\u001b[0m\u001b[1;33m]\u001b[0m\u001b[1;33m+\u001b[0m\u001b[1;34m\"z\"\u001b[0m\u001b[1;33m\u001b[0m\u001b[0m\n\u001b[0;32m      3\u001b[0m \u001b[0mprint\u001b[0m\u001b[1;33m(\u001b[0m\u001b[0mb\u001b[0m\u001b[1;33m)\u001b[0m\u001b[1;33m\u001b[0m\u001b[0m\n",
      "\u001b[1;31mTypeError\u001b[0m: 'str' object does not support item assignment"
     ]
    }
   ],
   "source": [
    "a[2]=\"z\"#cant update string because its in  mutable\n",
    "b=a[2]+\"z\"\n",
    "print(b)"
   ]
  },
  {
   "cell_type": "code",
   "execution_count": 9,
   "metadata": {},
   "outputs": [
    {
     "name": "stdout",
     "output_type": "stream",
     "text": [
      "****hello world*****\n",
      "hello world*********\n",
      "*********hello world\n"
     ]
    }
   ],
   "source": [
    "#method and function\n",
    "#design\n",
    "#-->center()\n",
    "#-->ljust()\n",
    "#-->rjust()\n",
    "#(width,fillchar)\n",
    "\n",
    "print(a.center(20,\"*\"))\n",
    "print(a.ljust(20,\"*\"))\n",
    "print(a.rjust(20,\"*\"))"
   ]
  },
  {
   "cell_type": "code",
   "execution_count": 19,
   "metadata": {},
   "outputs": [
    {
     "name": "stdout",
     "output_type": "stream",
     "text": [
      "enter a no9773752156\n"
     ]
    },
    {
     "data": {
      "text/plain": [
       "'XXXXXX2156'"
      ]
     },
     "execution_count": 19,
     "metadata": {},
     "output_type": "execute_result"
    }
   ],
   "source": [
    "a=input(\"enter a no\")\n",
    "a[6:].rjust(len(a),\"X\")"
   ]
  },
  {
   "cell_type": "code",
   "execution_count": 36,
   "metadata": {},
   "outputs": [
    {
     "name": "stdout",
     "output_type": "stream",
     "text": [
      "HELLO WORLD\n",
      "hello world\n",
      "Hello World\n",
      "True\n",
      "False\n",
      "HELLO WORLD\n",
      "False\n"
     ]
    }
   ],
   "source": [
    "#cases\n",
    "a=\"hello world\"\n",
    "print(a.upper())\n",
    "print(a.lower())\n",
    "print(a.title())\n",
    "print(a.islower())\n",
    "print(a.isupper())\n",
    "print(a.swapcase())\n",
    "print(a.istitle())"
   ]
  },
  {
   "cell_type": "code",
   "execution_count": 62,
   "metadata": {},
   "outputs": [
    {
     "name": "stdout",
     "output_type": "stream",
     "text": [
      "True\n",
      "False\n",
      "True\n"
     ]
    }
   ],
   "source": [
    "#prefix and suffix\n",
    "a=\"hello world\"\n",
    "print(a.startswith('h'))\n",
    "print(a.endswith('l'))\n",
    "print(a.startswith('hello'))"
   ]
  },
  {
   "cell_type": "code",
   "execution_count": 51,
   "metadata": {},
   "outputs": [
    {
     "name": "stdout",
     "output_type": "stream",
     "text": [
      "hello world\n"
     ]
    }
   ],
   "source": [
    "#strips\n",
    "print(a.strip()) # start and strip the spaces"
   ]
  },
  {
   "cell_type": "code",
   "execution_count": 67,
   "metadata": {},
   "outputs": [
    {
     "name": "stdout",
     "output_type": "stream",
     "text": [
      "2\n",
      "2\n",
      "3\n",
      "hezlo world\n"
     ]
    }
   ],
   "source": [
    "#operation\n",
    "#find\n",
    "#count\n",
    "#index\n",
    "#replace syntax (old, new ,[occurance]if only 1 time then 1 only no. occurance will be replace by default)\n",
    "#len()\n",
    "a=\"hello world\"\n",
    "print(a.find('l'))\n",
    "print(a.index('l'))\n",
    "print(a.count('l'))\n",
    "print(a.replace(\"l\",\"z\",1))"
   ]
  },
  {
   "cell_type": "code",
   "execution_count": null,
   "metadata": {},
   "outputs": [],
   "source": [
    "#dictionary \n",
    "#its look like json\n",
    "#dictionary is  mutable\n",
    "#same keys arranged then last assignment\n",
    "#key is immutable\n",
    "#value-> mutbale or immutable\n",
    "#dictionary doesnt follow index property"
   ]
  },
  {
   "cell_type": "code",
   "execution_count": 97,
   "metadata": {},
   "outputs": [
    {
     "name": "stdout",
     "output_type": "stream",
     "text": [
      "{'name': 'ganesh', 'std': 'BE', 'div': 'B', 'roll no': 24}\n"
     ]
    }
   ],
   "source": [
    "#crud o dictionary\n",
    "dict1={\"name\":\"raj\",\n",
    "      \"std\":\"BE\",\n",
    "       \"div\":\"B\",\n",
    "      \"roll no\":24}\n",
    "\n",
    "dict1['name']=\"ganesh\"\n",
    "print(dict1)\n",
    "\n",
    "\n",
    "\n",
    "\n"
   ]
  },
  {
   "cell_type": "code",
   "execution_count": 90,
   "metadata": {},
   "outputs": [
    {
     "data": {
      "text/plain": [
       "{'name': 'ganesh', 'std': 'BE', 'div': 'B', 'roll no': 24, 'address': 'kalwa'}"
      ]
     },
     "execution_count": 90,
     "metadata": {},
     "output_type": "execute_result"
    }
   ],
   "source": [
    "#update\n",
    "#two types\n",
    "dict1[\"address\"]= \"kalwa\"\n",
    "dict1"
   ]
  },
  {
   "cell_type": "code",
   "execution_count": 94,
   "metadata": {},
   "outputs": [
    {
     "data": {
      "text/plain": [
       "{'name': 'raorane', 'std': 'BE', 'div': 'B', 'roll no': 24, 'address': 'kalwa'}"
      ]
     },
     "execution_count": 94,
     "metadata": {},
     "output_type": "execute_result"
    }
   ],
   "source": [
    "### second type\n",
    "dict1[\"name\"]=\"raorane\"\n",
    "dict1"
   ]
  },
  {
   "cell_type": "code",
   "execution_count": 96,
   "metadata": {},
   "outputs": [
    {
     "data": {
      "text/plain": [
       "{}"
      ]
     },
     "execution_count": 96,
     "metadata": {},
     "output_type": "execute_result"
    }
   ],
   "source": [
    "#methods\n",
    "dict1.clear()\n",
    "dict1"
   ]
  },
  {
   "cell_type": "code",
   "execution_count": 102,
   "metadata": {},
   "outputs": [
    {
     "name": "stdout",
     "output_type": "stream",
     "text": [
      "{'name': 'ganesh', 'std': 'BE', 'div': 'B', 'roll no': 24}\n",
      "{'name': 'ganesh', 'std': 'BE', 'div': 'B', 'roll no': 24}\n",
      "{'name': 'ganesh', 'std': 'BE', 'div': 'B', 'roll no': 24}\n"
     ]
    }
   ],
   "source": [
    "#.copy\n",
    "dict2=dict1 #they are connect to  main data base if dict 1 is changes happend its reflect on dict 2\n",
    "dict3=dict1.copy()# there are dict 3 not connected to base dict1 its copy of dict1 so its not refelct on dict 3\n",
    "\n",
    "print(dict1)\n",
    "print(dict2)\n",
    "print(dict3)"
   ]
  },
  {
   "cell_type": "code",
   "execution_count": 106,
   "metadata": {},
   "outputs": [
    {
     "name": "stdout",
     "output_type": "stream",
     "text": [
      "{'name': 'raorane', 'std': 'BE', 'div': 'B', 'roll no': 24}\n",
      "{'name': 'ganesh', 'std': 'BE', 'div': 'B', 'roll no': 24}\n"
     ]
    }
   ],
   "source": [
    "dict1[\"name\"]=\"raorane\"\n",
    "print(dict2)\n",
    "print(dict3)"
   ]
  },
  {
   "cell_type": "code",
   "execution_count": 109,
   "metadata": {},
   "outputs": [
    {
     "data": {
      "text/plain": [
       "'raorane'"
      ]
     },
     "execution_count": 109,
     "metadata": {},
     "output_type": "execute_result"
    }
   ],
   "source": [
    "dict1.get('name','none')#if value is exist return that value if not avilabale then its create and set to n none value"
   ]
  },
  {
   "cell_type": "code",
   "execution_count": 117,
   "metadata": {},
   "outputs": [
    {
     "data": {
      "text/plain": [
       "{'name': 'raorane', 'std': 'BE', 'div': 'B', 'roll no': 24, 'gender': None}"
      ]
     },
     "execution_count": 117,
     "metadata": {},
     "output_type": "execute_result"
    }
   ],
   "source": [
    "dict1.setdefault('gender')#its exist show if none create and set to none only 1 parameter get non second like get method\n",
    "dict1"
   ]
  },
  {
   "cell_type": "code",
   "execution_count": 118,
   "metadata": {},
   "outputs": [
    {
     "name": "stdout",
     "output_type": "stream",
     "text": [
      "['name', 'std', 'div', 'roll no', 'gender']\n"
     ]
    }
   ],
   "source": [
    "print(list(dict1.keys()))#list of keys in that dict"
   ]
  },
  {
   "cell_type": "code",
   "execution_count": 119,
   "metadata": {},
   "outputs": [
    {
     "name": "stdout",
     "output_type": "stream",
     "text": [
      "['raorane', 'BE', 'B', 24, None]\n"
     ]
    }
   ],
   "source": [
    "print(list(dict1.values()))"
   ]
  },
  {
   "cell_type": "code",
   "execution_count": 122,
   "metadata": {},
   "outputs": [
    {
     "name": "stdout",
     "output_type": "stream",
     "text": [
      "[('name', 'raorane'), ('std', 'BE'), ('div', 'B'), ('roll no', 24), ('gender', None)]\n"
     ]
    }
   ],
   "source": [
    "print(list(dict1.items()))# set of lis square of list tuple means paranthesis t of tuple of{ } means dictionary "
   ]
  },
  {
   "cell_type": "code",
   "execution_count": 126,
   "metadata": {},
   "outputs": [
    {
     "data": {
      "text/plain": [
       "{'number': '9773752156'}"
      ]
     },
     "execution_count": 126,
     "metadata": {},
     "output_type": "execute_result"
    }
   ],
   "source": [
    "dict4={\n",
    "    \"number\":\"9773752156\"\n",
    "    \n",
    "}\n",
    "dict4#when u initilise new dictionary always initilise with equal siggn =="
   ]
  },
  {
   "cell_type": "code",
   "execution_count": 128,
   "metadata": {},
   "outputs": [
    {
     "data": {
      "text/plain": [
       "{'name': 'raorane',\n",
       " 'std': 'BE',\n",
       " 'div': 'B',\n",
       " 'roll no': 24,\n",
       " 'gender': None,\n",
       " 'number': '9773752156'}"
      ]
     },
     "execution_count": 128,
     "metadata": {},
     "output_type": "execute_result"
    }
   ],
   "source": [
    "#update dict 1 with dict 4 \n",
    "dict1.update(dict4)\n",
    "dict1"
   ]
  },
  {
   "cell_type": "code",
   "execution_count": 135,
   "metadata": {},
   "outputs": [
    {
     "name": "stdout",
     "output_type": "stream",
     "text": [
      "l\n",
      "hlo\n",
      "ello\n",
      "l\n",
      "ell\n",
      "oll\n",
      "ell\n",
      "olleh\n"
     ]
    }
   ],
   "source": [
    "#list\n",
    "a=\"hello\"\n",
    "#part1\n",
    "print(a[3])\n",
    "print(a[::2])\n",
    "print(a[1::1])\n",
    "#part 2\n",
    "print(a[-3])\n",
    "print(a[-4:-1])\n",
    "print(a[-1:-4:-1])\n",
    "#part 3\n",
    "print(a[1:-1])\n",
    "print(a[::-1])"
   ]
  },
  {
   "cell_type": "code",
   "execution_count": 152,
   "metadata": {},
   "outputs": [
    {
     "name": "stdout",
     "output_type": "stream",
     "text": [
      "['h', 'e', 'l', 'l', 'o']\n"
     ]
    }
   ],
   "source": [
    "a=[\"h\",\"e\",\"l\",\"l\",\"o\"]\n",
    "print(a)\n"
   ]
  },
  {
   "cell_type": "code",
   "execution_count": 146,
   "metadata": {},
   "outputs": [
    {
     "name": "stdout",
     "output_type": "stream",
     "text": [
      "['h', [1, 2], 'l', 'l', 'o']\n"
     ]
    }
   ],
   "source": [
    "a[1]=[1,2]\n",
    "\n",
    "print(a)#clip and only limited target send so its only replace that data"
   ]
  },
  {
   "cell_type": "code",
   "execution_count": 149,
   "metadata": {},
   "outputs": [
    {
     "name": "stdout",
     "output_type": "stream",
     "text": [
      "['h', 1, 2, 'o']\n"
     ]
    }
   ],
   "source": [
    "a[1:4]=[1,2]# in this section we provide 1 to 4 data so 1to 3  se pehele ko replace kar dega 1 and 2 se and 3 rd posion koin no. pass nahi kiya usko clip kar dega means l ko delete kar diya usne\n",
    "print(a)"
   ]
  },
  {
   "cell_type": "code",
   "execution_count": 151,
   "metadata": {},
   "outputs": [
    {
     "name": "stdout",
     "output_type": "stream",
     "text": [
      "['h', 1, 2, 3, 4, 5, 'l', 'o']\n"
     ]
    }
   ],
   "source": [
    "a[1:3]=[1,2,3,4,5]# 1and 3se pehele tak woh 12345 dal dega\n",
    "print(a)"
   ]
  },
  {
   "cell_type": "code",
   "execution_count": 160,
   "metadata": {},
   "outputs": [
    {
     "name": "stdout",
     "output_type": "stream",
     "text": [
      "[1, 2, 3, 4, 5, 6, 7, 8, 9, 'hello']\n"
     ]
    }
   ],
   "source": [
    "list1=list(range(1,10))\n",
    "list1.append(\"hello\") #its append data in last\n",
    "print(list1)"
   ]
  },
  {
   "cell_type": "code",
   "execution_count": 157,
   "metadata": {},
   "outputs": [
    {
     "name": "stdout",
     "output_type": "stream",
     "text": [
      "[1, 2, 3, 4, 5, 6, 7, 8, 9]\n"
     ]
    }
   ],
   "source": [
    "list1.pop()#pop data with last\n",
    "print(list1)"
   ]
  },
  {
   "cell_type": "code",
   "execution_count": 161,
   "metadata": {},
   "outputs": [
    {
     "name": "stdout",
     "output_type": "stream",
     "text": [
      "[1, 2, 3, 'hello', 4, 5, 6, 7, 8, 9, 'hello']\n"
     ]
    }
   ],
   "source": [
    "list1.insert(3,\"hello\")\n",
    "print(list1)\n",
    "list1.insert?"
   ]
  },
  {
   "cell_type": "code",
   "execution_count": 162,
   "metadata": {},
   "outputs": [
    {
     "name": "stdout",
     "output_type": "stream",
     "text": [
      "[1, 2, 3, 4, 5, 6, 7, 8, 9, 'hello']\n"
     ]
    }
   ],
   "source": [
    "list1.remove(\"hello\") #only 1 time and stops for second time u need to fire onse again\n",
    "print(list1)\n",
    "list1."
   ]
  },
  {
   "cell_type": "code",
   "execution_count": 164,
   "metadata": {},
   "outputs": [
    {
     "data": {
      "text/plain": [
       "9"
      ]
     },
     "execution_count": 164,
     "metadata": {},
     "output_type": "execute_result"
    }
   ],
   "source": [
    "list1.index(\"hello\")"
   ]
  },
  {
   "cell_type": "code",
   "execution_count": 171,
   "metadata": {},
   "outputs": [
    {
     "name": "stdout",
     "output_type": "stream",
     "text": [
      "[1, 2, 3, 4, 5, 6, 7, 8, 9, 'hello']\n",
      "[1, 2, 3, 4, 5, 6, 7, 8, 9, 'hello']\n"
     ]
    },
    {
     "ename": "NameError",
     "evalue": "name 'hello' is not defined",
     "output_type": "error",
     "traceback": [
      "\u001b[1;31m---------------------------------------------------------------------------\u001b[0m",
      "\u001b[1;31mNameError\u001b[0m                                 Traceback (most recent call last)",
      "\u001b[1;32m<ipython-input-171-805cd843ef65>\u001b[0m in \u001b[0;36m<module>\u001b[1;34m()\u001b[0m\n\u001b[0;32m      2\u001b[0m \u001b[0mprint\u001b[0m\u001b[1;33m(\u001b[0m\u001b[0mlist2\u001b[0m\u001b[1;33m)\u001b[0m\u001b[1;33m\u001b[0m\u001b[0m\n\u001b[0;32m      3\u001b[0m \u001b[0mprint\u001b[0m\u001b[1;33m(\u001b[0m\u001b[0mlist1\u001b[0m\u001b[1;33m)\u001b[0m\u001b[1;33m\u001b[0m\u001b[0m\n\u001b[1;32m----> 4\u001b[1;33m \u001b[0mlist2\u001b[0m\u001b[1;33m.\u001b[0m\u001b[0mremove\u001b[0m\u001b[1;33m(\u001b[0m\u001b[0mhello\u001b[0m\u001b[1;33m)\u001b[0m\u001b[1;33m\u001b[0m\u001b[0m\n\u001b[0m\u001b[0;32m      5\u001b[0m \u001b[0mprint\u001b[0m\u001b[1;33m(\u001b[0m\u001b[0mlist2\u001b[0m\u001b[1;33m)\u001b[0m\u001b[1;33m\u001b[0m\u001b[0m\n",
      "\u001b[1;31mNameError\u001b[0m: name 'hello' is not defined"
     ]
    }
   ],
   "source": [
    "list2=list1.copy()\n",
    "print(list2)\n",
    "print(list1)\n",
    "list2.remove(hello)#u can use directly for string without qotes\n",
    "print(list2)"
   ]
  },
  {
   "cell_type": "code",
   "execution_count": 173,
   "metadata": {},
   "outputs": [
    {
     "name": "stdout",
     "output_type": "stream",
     "text": [
      "1\n"
     ]
    }
   ],
   "source": [
    "print(list1.count(3))"
   ]
  },
  {
   "cell_type": "code",
   "execution_count": 182,
   "metadata": {},
   "outputs": [
    {
     "name": "stdout",
     "output_type": "stream",
     "text": [
      "<class 'tuple'>\n",
      "<class 'int'>\n"
     ]
    }
   ],
   "source": [
    "#crud on tuple  single element on tuple represent by qoma if not then its not conciderd as tuple\n",
    "tup1=(23,)\n",
    "\n",
    "print(type(tup1))\n",
    "tup2=(24)\n",
    "print(type(tup2))"
   ]
  },
  {
   "cell_type": "code",
   "execution_count": 183,
   "metadata": {},
   "outputs": [
    {
     "name": "stdout",
     "output_type": "stream",
     "text": [
      "0\n"
     ]
    }
   ],
   "source": [
    "#update is not possible its inmutable data type\n",
    "#delete\n",
    "#u need delete whole tuple if delete on element then tuple is upadate and update in not possible in no. so u need to delet whole tuple\n",
    "\n",
    "# two method availabale for this count or index f that element\n",
    "print(tup1.count(2))\n"
   ]
  },
  {
   "cell_type": "code",
   "execution_count": null,
   "metadata": {},
   "outputs": [],
   "source": []
  },
  {
   "cell_type": "code",
   "execution_count": 192,
   "metadata": {},
   "outputs": [
    {
     "name": "stdout",
     "output_type": "stream",
     "text": [
      "{3, 4, 77}\n",
      "{1, 2, 5}\n",
      "False\n",
      "False\n",
      "False\n",
      "{1, 2, 3, 4, 5, 77}\n",
      "None\n",
      "{33, 2, 1, 5, 44}\n"
     ]
    }
   ],
   "source": [
    "#set\n",
    "a={1,2,3,4,5,77}\n",
    "b={2,33,44,1,5}\n",
    "print(a.difference(b))# jo nahin hai wahi add hoga 'a' me nahin hoaga\n",
    "print(a.intersection(b))#jo ame hai b me se\n",
    "print(a.isdisjoint(b))#\"a\" cpmpletely unique hai b se b ke kuch bhi a ke pass nahin\n",
    "print(a.issubset(b))\n",
    "print(a.issuperset(b))\n",
    "print(a)\n",
    "print(a.intersection_update(b)) #ye changes find out karega or update karega a ko and replace whole\n",
    "print(b)\n"
   ]
  },
  {
   "cell_type": "code",
   "execution_count": null,
   "metadata": {},
   "outputs": [],
   "source": [
    "#assignmet search replace system\n",
    "enter paragraph \n",
    "1.print paragraph 2 search  3 replace 4 recent search 5 recent replce\n",
    "1-->\n",
    "enter world is present in index\n",
    "3.enter old world to be replce \n",
    "world \n",
    "enter a new world to be replace \n",
    "-->python\n",
    "\n",
    "new paragraph is hello python\n",
    "4 [python,world]\n",
    "5.{old_word:new word}\n",
    "\n",
    "6exit thnak you using our system good bye\n",
    "1hr\n",
    "20 30 lines\n",
    "python 3 ke notebook me topic no.00, 01 02"
   ]
  },
  {
   "cell_type": "code",
   "execution_count": null,
   "metadata": {},
   "outputs": [
    {
     "name": "stdout",
     "output_type": "stream",
     "text": [
      "enter your paragraph ganesh\n",
      "ganesh\n",
      "enter word which you want to search ganesh\n",
      "enter the replacing word ganu\n",
      "ganu\n",
      "['search words', 'ganesh']\n",
      "recent replaces\n",
      "{'search': 'word', 'ganesh': 'ganu'}\n",
      "enter your paragraph hello everyone\n",
      "hello everyone\n",
      "enter word which you want to search hello\n",
      "enter the replacing word hii\n",
      "hii everyone\n",
      "['search words', 'ganesh', 'hello']\n",
      "recent replaces\n",
      "{'search': 'word', 'ganesh': 'ganu', 'hello': 'hii'}\n"
     ]
    }
   ],
   "source": [
    "#project 2\n",
    "dict={\"search\":\"word\"}\n",
    "recent = [\"search words\"]\n",
    "while(True):\n",
    "    a= input(\"enter your paragraph \")\n",
    "    print(a)\n",
    "    word=input(\"enter word which you want to search \")\n",
    "    if(a.find(word)!=-1):\n",
    "        b= input(\"enter the replacing word \")\n",
    "        c=a.replace(word,b,len(a))\n",
    "        print(c)\n",
    "    \n",
    "        recent.append(word)\n",
    "        print(recent)\n",
    "        print(\"recent replaces\")\n",
    "        dict[word]=b\n",
    "        print(dict)\n",
    "    \n",
    "    else:\n",
    "        print(\"this word doesnt exist\")\n",
    "        print(\"thanking you\")\n",
    "        "
   ]
  }
 ],
 "metadata": {
  "kernelspec": {
   "display_name": "Python 3",
   "language": "python",
   "name": "python3"
  },
  "language_info": {
   "codemirror_mode": {
    "name": "ipython",
    "version": 3
   },
   "file_extension": ".py",
   "mimetype": "text/x-python",
   "name": "python",
   "nbconvert_exporter": "python",
   "pygments_lexer": "ipython3",
   "version": "3.6.5"
  }
 },
 "nbformat": 4,
 "nbformat_minor": 2
}
